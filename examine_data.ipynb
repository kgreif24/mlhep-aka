{
 "cells": [
  {
   "cell_type": "markdown",
   "metadata": {
    "collapsed": false
   },
   "source": [
    "Here we'll just do a little bit of plotting and such to examine the data being used in the challenge. Always good to have a handle on what we're dealing with"
   ]
  },
  {
   "cell_type": "code",
   "execution_count": 1,
   "metadata": {
    "collapsed": false
   },
   "outputs": [
   ],
   "source": [
    "import configparser\n",
    "import torch\n",
    "import numpy as np\n",
    "from idao.data_module import IDAODataModule\n",
    "import pathlib as path\n",
    "import matplotlib.pyplot as plt"
   ]
  },
  {
   "cell_type": "code",
   "execution_count": 2,
   "metadata": {
    "collapsed": false
   },
   "outputs": [
   ],
   "source": [
    "# Read config.ini file\n",
    "config = configparser.ConfigParser()\n",
    "config.read(\"./config.ini\")\n",
    "\n",
    "PATH = path.Path(config[\"DATA\"][\"DatasetPath\"])"
   ]
  },
  {
   "cell_type": "code",
   "execution_count": 3,
   "metadata": {
    "collapsed": false
   },
   "outputs": [
   ],
   "source": [
    "# Build class used to generate torch dataloaders\n",
    "dataset_dm = IDAODataModule(\n",
    "    data_dir=PATH, batch_size=100, cfg=config\n",
    ")\n",
    "dataset_dm.prepare_data()\n",
    "dataset_dm.setup()"
   ]
  },
  {
   "cell_type": "code",
   "execution_count": 4,
   "metadata": {
    "collapsed": false
   },
   "outputs": [
   ],
   "source": [
    "# Get dataloaders\n",
    "train = dataset_dm.train_dataloader()\n",
    "valid = dataset_dm.val_dataloader()\n",
    "test = dataset_dm.test_dataloader()"
   ]
  },
  {
   "cell_type": "code",
   "execution_count": 5,
   "metadata": {
    "collapsed": false
   },
   "outputs": [
    {
     "name": "stdout",
     "output_type": "stream",
     "text": [
      "100\n",
      "34\n",
      "166\n"
     ]
    }
   ],
   "source": [
    "# Print their lengths\n",
    "print(len(train))\n",
    "print(len(valid))\n",
    "print(len(test))"
   ]
  },
  {
   "cell_type": "code",
   "execution_count": 0,
   "metadata": {
    "collapsed": false
   },
   "outputs": [
   ],
   "source": [
    "# Now show some of the images from the training set, along with labels\n",
    "figure = plt.figure(figsize=(8, 8))\n",
    "cols, rows = 3, 3\n",
    "for i in range(1, cols * rows + 1):\n",
    "    sample_idx = torch.randint(len(train), size=(1,)).item()\n",
    "    img, label, en, en_class = train.dataset[sample_idx]\n",
    "    figure.add_subplot(rows, cols, i)\n",
    "    plt.title(str(label))\n",
    "    plt.axis(\"off\")\n",
    "    plt.imshow(img.squeeze(), cmap=\"gray\")\n",
    "plt.show()"
   ]
  },
  {
   "cell_type": "code",
   "execution_count": 6,
   "metadata": {
    "collapsed": false
   },
   "outputs": [
    {
     "name": "stdout",
     "output_type": "stream",
     "text": [
      "Background events:  4947\n",
      "Signal events:  5053\n"
     ]
    }
   ],
   "source": [
    "# Okay now we probably want to look at signal/background ratios, and also energy distributions in each set.\n",
    "# This is going to run slow because pytorch is loading batches directly from files I believe?\n",
    "\n",
    "num_sig = 0\n",
    "num_bkg = 0\n",
    "en_list = []\n",
    "\n",
    "for ind, batch in enumerate(train):\n",
    "    img, labels, en, en_class = batch\n",
    "\n",
    "    sums = np.sum(labels.numpy(), axis=0)\n",
    "    num_sig += sums[1]\n",
    "    num_bkg += sums[0]\n",
    "\n",
    "    en_list.append(en)\n",
    "    \n",
    "print(\"Background events: \", num_bkg)\n",
    "print(\"Signal events: \", num_sig)\n",
    "\n",
    "# Send en lists to torch tensors and plot\n",
    "en_list = torch.cat(tuple(en_list))\n",
    "# plt.hist(en_list, bins=100)\n",
    "# plt.show()"
   ]
  },
  {
   "cell_type": "code",
   "execution_count": 17,
   "metadata": {
    "collapsed": false
   },
   "outputs": [
    {
     "name": "stdout",
     "output_type": "stream",
     "text": [
      "Ones:  1623\n",
      "Threes:  1685\n",
      "Sixes:  1659\n",
      "Tens:  1722\n",
      "Twenties:  1664\n",
      "Thirties:  1647\n"
     ]
    },
    {
     "data": {
      "image/png": "[encoded data removed]",
      "text/plain": [
       "<Figure size 432x288 with 1 Axes>"
      ]
     },
     "execution_count": 17,
     "metadata": {
      "needs_background": "light"
     },
     "output_type": "execute_result"
    },
    {
     "name": "stdout",
     "output_type": "stream",
     "text": [
      "[ 6.  6. 30.  6. 20. 20.  3.  6.  1.  6. 30. 20.  1.  3.  6.  1. 30. 20.\n",
      "  6. 10.]\n"
     ]
    }
   ],
   "source": [
    "en_list_np = en_list.numpy()\n",
    "ones = en_list_np[en_list_np == 1.]\n",
    "print(\"Ones: \", len(ones))\n",
    "threes = en_list_np[en_list_np == 3.]\n",
    "print(\"Threes: \", len(threes))\n",
    "sixes = en_list_np[en_list_np == 6.]\n",
    "print(\"Sixes: \", len(sixes))\n",
    "tens = en_list_np[en_list_np == 10.]\n",
    "print(\"Tens: \", len(tens))\n",
    "twenties = en_list_np[en_list_np == 20.]\n",
    "print(\"Twenties: \", len(twenties))\n",
    "thirty = en_list_np[en_list_np == 30.]\n",
    "print(\"Thirties: \", len(thirty))\n",
    "plt.hist(en_list_np, bins=100)\n",
    "plt.show()\n",
    "print(en_list_np[:20])"
   ]
  },
  {
   "cell_type": "code",
   "execution_count": 0,
   "metadata": {
    "collapsed": false
   },
   "outputs": [
   ],
   "source": [
   ]
  }
 ],
 "metadata": {
  "kernelspec": {
   "display_name": "Python 3",
   "language": "python",
   "name": "python3",
   "resource_dir": "/usr/local/share/jupyter/kernels/python3"
  },
  "language_info": {
   "codemirror_mode": {
    "name": "ipython",
    "version": 3
   },
   "file_extension": ".py",
   "mimetype": "text/x-python",
   "name": "python",
   "nbconvert_exporter": "python",
   "pygments_lexer": "ipython3",
   "version": "3.6.9"
  }
 },
 "nbformat": 4,
 "nbformat_minor": 4
}